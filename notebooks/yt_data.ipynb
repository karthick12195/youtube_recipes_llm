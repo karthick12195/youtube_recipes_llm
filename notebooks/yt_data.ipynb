{
 "cells": [
  {
   "cell_type": "code",
   "execution_count": 1,
   "metadata": {
    "cell_id": "5a4c29fafb1143c28df269c1cbadf55a",
    "deepnote_app_coordinates": {
     "h": 5,
     "w": 12,
     "x": 0,
     "y": 0
    },
    "deepnote_cell_type": "code",
    "deepnote_to_be_reexecuted": false,
    "execution_millis": 8,
    "execution_start": 1692763723168,
    "source_hash": null
   },
   "outputs": [],
   "source": [
    "from pytube import Channel, YouTube, Playlist\n",
    "from youtube_transcript_api import YouTubeTranscriptApi\n",
    "from youtube_transcript_api.formatters import TextFormatter\n",
    "import pandas as pd"
   ]
  },
  {
   "cell_type": "code",
   "execution_count": 2,
   "metadata": {
    "cell_id": "af979888968844f992e3db284767ffad",
    "deepnote_app_coordinates": {
     "h": 5,
     "w": 12,
     "x": 0,
     "y": 0
    },
    "deepnote_cell_type": "code",
    "deepnote_to_be_reexecuted": false,
    "execution_millis": 8,
    "execution_start": 1692763724613,
    "source_hash": null
   },
   "outputs": [],
   "source": [
    "# Popular Ranveer Brar Recipes Playlist. Using playlist instead of channels since pytube does not support new channel format\n",
    "rb_playlist = Playlist('https://www.youtube.com/watch?v=zAICu_dIlUs&list=UULPEHCDn_BBnk3uTK1M64ptyw')\n",
    "formatter = TextFormatter()"
   ]
  },
  {
   "cell_type": "code",
   "execution_count": 3,
   "metadata": {
    "cell_id": "130ec1c52f9a4664a0f0e40481d041b6",
    "deepnote_app_coordinates": {
     "h": 5,
     "w": 12,
     "x": 0,
     "y": 0
    },
    "deepnote_cell_type": "code",
    "deepnote_to_be_reexecuted": false,
    "execution_millis": 892885,
    "execution_start": 1692764628716,
    "source_hash": null
   },
   "outputs": [
    {
     "name": "stdout",
     "output_type": "stream",
     "text": [
      "No transcripts available for  JnmpulR4M18\n",
      "No transcripts available for  487VfUaTUdc\n",
      "No transcripts available for  jIurvPodGB8\n",
      "No transcripts available for  owow9tu3L6A\n",
      "No transcripts available for  sAa-CEl5Z-k\n",
      "No transcripts available for  wAApJ327T9s\n",
      "No transcripts available for  F2u4KaxvYCg\n",
      "No transcripts available for  ScpI7S4THoQ\n",
      "No transcripts available for  I1p9y7XbB1c\n",
      "No transcripts available for  zEqsP6T1GYM\n",
      "No transcripts available for  zcNmQX1KFVs\n",
      "No transcripts available for  QH5vUwMqwaY\n",
      "No transcripts available for  3FO9Dy0eQXQ\n",
      "No transcripts available for  360vfGn4ocQ\n",
      "No transcripts available for  AHwfSq3C0RQ\n",
      "No transcripts available for  W9KtaPbklsM\n",
      "No transcripts available for  _YOmQFarzfM\n",
      "No transcripts available for  wi-Oz7AF-Zg\n",
      "No transcripts available for  dtX6Fn7sULE\n",
      "No transcripts available for  t_0jheAXgjk\n",
      "No transcripts available for  2BdNyw3w7fg\n",
      "No transcripts available for  sdLjpnRZfEo\n",
      "No transcripts available for  eVMc02V5glo\n",
      "No transcripts available for  zMPDgUFeUeI\n",
      "No transcripts available for  zgjRFxIBzzc\n",
      "No transcripts available for  -J3lxS7FPa0\n",
      "No transcripts available for  b4lBA--bQyg\n",
      "No transcripts available for  p98QvIPHa4U\n"
     ]
    }
   ],
   "source": [
    "df = pd.DataFrame()\n",
    "\n",
    "for video in rb_playlist:\n",
    "    d = {}\n",
    "    v_id = video.split('watch?v=')[1]\n",
    "    d['video_id'] = v_id\n",
    "    d['title'] = YouTube(video).title\n",
    "    d['publish_date'] = YouTube(video).publish_date\n",
    "    d['length'] = YouTube(video).length\n",
    "    d['thumbnail'] = YouTube(video).thumbnail_url\n",
    "    d['vid_info'] = YouTube(video).vid_info\n",
    "    \n",
    "    try:\n",
    "        \n",
    "        #transcript_list = YouTubeTranscriptApi.list_transcripts(v_id)\n",
    "        transcript = YouTubeTranscriptApi.get_transcript(v_id, languages=['en', 'en-GB', 'hi', 'en-IN'])\n",
    "        d['transcript'] = formatter.format_transcript(transcript)\n",
    "    except:\n",
    "        print('No transcripts available for ', v_id)\n",
    "        d['transcript'] = 'NA'\n",
    "        continue\n",
    "\n",
    "    df = pd.concat([df, pd.DataFrame([d])], ignore_index=True)"
   ]
  },
  {
   "cell_type": "code",
   "execution_count": 4,
   "metadata": {
    "cell_id": "1d12da7f91824b3595be9ff0939b2111",
    "deepnote_app_coordinates": {
     "h": 5,
     "w": 12,
     "x": 0,
     "y": 0
    },
    "deepnote_cell_type": "code",
    "deepnote_to_be_reexecuted": false,
    "execution_millis": 730,
    "execution_start": 1692765521393,
    "source_hash": null
   },
   "outputs": [
    {
     "data": {
      "text/html": [
       "<div>\n",
       "<style scoped>\n",
       "    .dataframe tbody tr th:only-of-type {\n",
       "        vertical-align: middle;\n",
       "    }\n",
       "\n",
       "    .dataframe tbody tr th {\n",
       "        vertical-align: top;\n",
       "    }\n",
       "\n",
       "    .dataframe thead th {\n",
       "        text-align: right;\n",
       "    }\n",
       "</style>\n",
       "<table border=\"1\" class=\"dataframe\">\n",
       "  <thead>\n",
       "    <tr style=\"text-align: right;\">\n",
       "      <th></th>\n",
       "      <th>video_id</th>\n",
       "      <th>title</th>\n",
       "      <th>publish_date</th>\n",
       "      <th>length</th>\n",
       "      <th>thumbnail</th>\n",
       "      <th>vid_info</th>\n",
       "      <th>transcript</th>\n",
       "    </tr>\n",
       "  </thead>\n",
       "  <tbody>\n",
       "    <tr>\n",
       "      <th>0</th>\n",
       "      <td>zAICu_dIlUs</td>\n",
       "      <td>Easy Tawa Pizza | तवा पिज्जा रेसिपी | Pizza at...</td>\n",
       "      <td>2020-02-24</td>\n",
       "      <td>810</td>\n",
       "      <td>https://i.ytimg.com/vi/zAICu_dIlUs/hq720.jpg</td>\n",
       "      <td>{'responseContext': {'visitorData': 'CgtWZnhwV...</td>\n",
       "      <td>The flour mix is ready,\\nRefined flour is here...</td>\n",
       "    </tr>\n",
       "    <tr>\n",
       "      <th>1</th>\n",
       "      <td>a30BLUQiFoc</td>\n",
       "      <td>होटल जैसा पनीर बटर मसाला | Restaurant style Pa...</td>\n",
       "      <td>2020-10-15</td>\n",
       "      <td>791</td>\n",
       "      <td>https://i.ytimg.com/vi/a30BLUQiFoc/hq720.jpg</td>\n",
       "      <td>{'responseContext': {'visitorData': 'CgtDWUM4Q...</td>\n",
       "      <td>Hello! Hello! Hello!\\nThis recipe comes with t...</td>\n",
       "    </tr>\n",
       "    <tr>\n",
       "      <th>2</th>\n",
       "      <td>R4GAb4-1l4A</td>\n",
       "      <td>Veg Chowmein Easy Recipe | वेज चाऊमीन बनाएं घर...</td>\n",
       "      <td>2020-12-28</td>\n",
       "      <td>654</td>\n",
       "      <td>https://i.ytimg.com/vi/R4GAb4-1l4A/hq720.jpg</td>\n",
       "      <td>{'responseContext': {'visitorData': 'Cgs3T2x5T...</td>\n",
       "      <td>Look the plan was to make chow mein \\nFirst I ...</td>\n",
       "    </tr>\n",
       "    <tr>\n",
       "      <th>3</th>\n",
       "      <td>LBTxB8uOWAY</td>\n",
       "      <td>Cheesy Crust Pizza no oven | चीज़ बर्स्ट पीज़्...</td>\n",
       "      <td>2020-07-31</td>\n",
       "      <td>838</td>\n",
       "      <td>https://i.ytimg.com/vi/LBTxB8uOWAY/hq720.jpg</td>\n",
       "      <td>{'responseContext': {'visitorData': 'CgtXVmE2W...</td>\n",
       "      <td>The purpose of making this video is that I hav...</td>\n",
       "    </tr>\n",
       "    <tr>\n",
       "      <th>4</th>\n",
       "      <td>1vQYLE_C8Gs</td>\n",
       "      <td>Chilli Cheese Toast | चिल्ली चीज़ टोस्ट | Easy...</td>\n",
       "      <td>2020-12-12</td>\n",
       "      <td>691</td>\n",
       "      <td>https://i.ytimg.com/vi/1vQYLE_C8Gs/hq720.jpg</td>\n",
       "      <td>{'responseContext': {'visitorData': 'CgttTzdVa...</td>\n",
       "      <td>Hello there I am Ranveer Brar and \\nI cook foo...</td>\n",
       "    </tr>\n",
       "  </tbody>\n",
       "</table>\n",
       "</div>"
      ],
      "text/plain": [
       "      video_id                                              title  \\\n",
       "0  zAICu_dIlUs  Easy Tawa Pizza | तवा पिज्जा रेसिपी | Pizza at...   \n",
       "1  a30BLUQiFoc  होटल जैसा पनीर बटर मसाला | Restaurant style Pa...   \n",
       "2  R4GAb4-1l4A  Veg Chowmein Easy Recipe | वेज चाऊमीन बनाएं घर...   \n",
       "3  LBTxB8uOWAY  Cheesy Crust Pizza no oven | चीज़ बर्स्ट पीज़्...   \n",
       "4  1vQYLE_C8Gs  Chilli Cheese Toast | चिल्ली चीज़ टोस्ट | Easy...   \n",
       "\n",
       "  publish_date  length                                     thumbnail  \\\n",
       "0   2020-02-24     810  https://i.ytimg.com/vi/zAICu_dIlUs/hq720.jpg   \n",
       "1   2020-10-15     791  https://i.ytimg.com/vi/a30BLUQiFoc/hq720.jpg   \n",
       "2   2020-12-28     654  https://i.ytimg.com/vi/R4GAb4-1l4A/hq720.jpg   \n",
       "3   2020-07-31     838  https://i.ytimg.com/vi/LBTxB8uOWAY/hq720.jpg   \n",
       "4   2020-12-12     691  https://i.ytimg.com/vi/1vQYLE_C8Gs/hq720.jpg   \n",
       "\n",
       "                                            vid_info  \\\n",
       "0  {'responseContext': {'visitorData': 'CgtWZnhwV...   \n",
       "1  {'responseContext': {'visitorData': 'CgtDWUM4Q...   \n",
       "2  {'responseContext': {'visitorData': 'Cgs3T2x5T...   \n",
       "3  {'responseContext': {'visitorData': 'CgtXVmE2W...   \n",
       "4  {'responseContext': {'visitorData': 'CgttTzdVa...   \n",
       "\n",
       "                                          transcript  \n",
       "0  The flour mix is ready,\\nRefined flour is here...  \n",
       "1  Hello! Hello! Hello!\\nThis recipe comes with t...  \n",
       "2  Look the plan was to make chow mein \\nFirst I ...  \n",
       "3  The purpose of making this video is that I hav...  \n",
       "4  Hello there I am Ranveer Brar and \\nI cook foo...  "
      ]
     },
     "execution_count": 4,
     "metadata": {},
     "output_type": "execute_result"
    }
   ],
   "source": [
    "df.head(5)"
   ]
  },
  {
   "cell_type": "code",
   "execution_count": 5,
   "metadata": {
    "cell_id": "8fb3ca65e3d94ce8825483d5661899bf",
    "deepnote_app_coordinates": {
     "h": 5,
     "w": 12,
     "x": 0,
     "y": 0
    },
    "deepnote_cell_type": "code",
    "deepnote_to_be_reexecuted": false,
    "execution_millis": 143,
    "execution_start": 1692765586064,
    "source_hash": null
   },
   "outputs": [],
   "source": [
    "df.to_csv('../data/recipes.csv', index=False)"
   ]
  },
  {
   "cell_type": "code",
   "execution_count": null,
   "metadata": {},
   "outputs": [],
   "source": []
  }
 ],
 "metadata": {
  "deepnote": {},
  "deepnote_app_layout": "powerful-article",
  "deepnote_execution_queue": [],
  "deepnote_notebook_id": "5cd428f9ead54220bdd8bc8c96a17934",
  "deepnote_persisted_session": {
   "createdAt": "2023-08-23T05:01:21.517Z"
  },
  "kernelspec": {
   "display_name": "Python 3 (ipykernel)",
   "language": "python",
   "name": "python3"
  },
  "language_info": {
   "codemirror_mode": {
    "name": "ipython",
    "version": 3
   },
   "file_extension": ".py",
   "mimetype": "text/x-python",
   "name": "python",
   "nbconvert_exporter": "python",
   "pygments_lexer": "ipython3",
   "version": "3.8.5"
  }
 },
 "nbformat": 4,
 "nbformat_minor": 4
}
