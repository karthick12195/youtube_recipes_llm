{
 "cells": [
  {
   "cell_type": "code",
   "execution_count": 1,
   "metadata": {
    "cell_id": "5a4c29fafb1143c28df269c1cbadf55a",
    "deepnote_app_coordinates": {
     "h": 5,
     "w": 12,
     "x": 0,
     "y": 0
    },
    "deepnote_cell_type": "code",
    "deepnote_to_be_reexecuted": false,
    "execution_millis": 8,
    "execution_start": 1692763723168,
    "source_hash": null
   },
   "outputs": [
    {
     "name": "stderr",
     "output_type": "stream",
     "text": [
      "/Users/karthickmani/Documents/Python/youtube_recipes_llm/env/lib/python3.9/site-packages/urllib3/__init__.py:34: NotOpenSSLWarning: urllib3 v2.0 only supports OpenSSL 1.1.1+, currently the 'ssl' module is compiled with 'LibreSSL 2.8.3'. See: https://github.com/urllib3/urllib3/issues/3020\n",
      "  warnings.warn(\n"
     ]
    }
   ],
   "source": [
    "from pytube import Channel, YouTube, Playlist\n",
    "from youtube_transcript_api import YouTubeTranscriptApi\n",
    "from youtube_transcript_api.formatters import TextFormatter\n",
    "import pandas as pd"
   ]
  },
  {
   "cell_type": "code",
   "execution_count": 2,
   "metadata": {
    "cell_id": "af979888968844f992e3db284767ffad",
    "deepnote_app_coordinates": {
     "h": 5,
     "w": 12,
     "x": 0,
     "y": 0
    },
    "deepnote_cell_type": "code",
    "deepnote_to_be_reexecuted": false,
    "execution_millis": 8,
    "execution_start": 1692763724613,
    "source_hash": null
   },
   "outputs": [],
   "source": [
    "# Popular Ranveer Brar Recipes Playlist. Using playlist instead of channels since pytube does not support new channel format\n",
    "rb_playlist = Playlist('https://www.youtube.com/watch?v=zAICu_dIlUs&list=UULPEHCDn_BBnk3uTK1M64ptyw')\n",
    "formatter = TextFormatter()"
   ]
  },
  {
   "cell_type": "code",
   "execution_count": null,
   "metadata": {
    "cell_id": "130ec1c52f9a4664a0f0e40481d041b6",
    "deepnote_app_coordinates": {
     "h": 5,
     "w": 12,
     "x": 0,
     "y": 0
    },
    "deepnote_cell_type": "code",
    "deepnote_to_be_reexecuted": false,
    "execution_millis": 892885,
    "execution_start": 1692764628716,
    "source_hash": null
   },
   "outputs": [],
   "source": [
    "df = pd.DataFrame()\n",
    "\n",
    "for video in rb_playlist:\n",
    "    d = {}\n",
    "    v_id = video.split('watch?v=')[1]\n",
    "    d['video_id'] = v_id\n",
    "    d['title'] = YouTube(video).title\n",
    "    d['publish_date'] = YouTube(video).publish_date\n",
    "    d['length'] = YouTube(video).length\n",
    "    d['thumbnail'] = YouTube(video).thumbnail_url\n",
    "    d['vid_info'] = YouTube(video).vid_info\n",
    "    \n",
    "    try:\n",
    "        \n",
    "        #transcript_list = YouTubeTranscriptApi.list_transcripts(v_id)\n",
    "        transcript = YouTubeTranscriptApi.get_transcript(v_id, languages=['en', 'en-GB', 'hi', 'en-IN'])\n",
    "        d['transcript'] = formatter.format_transcript(transcript)\n",
    "    except:\n",
    "        print('No transcripts available for ', v_id)\n",
    "        d['transcript'] = 'NA'\n",
    "        continue\n",
    "\n",
    "    df = pd.concat([df, pd.DataFrame([d])], ignore_index=True)"
   ]
  },
  {
   "cell_type": "code",
   "execution_count": null,
   "metadata": {
    "cell_id": "1d12da7f91824b3595be9ff0939b2111",
    "deepnote_app_coordinates": {
     "h": 5,
     "w": 12,
     "x": 0,
     "y": 0
    },
    "deepnote_cell_type": "code",
    "deepnote_to_be_reexecuted": false,
    "execution_millis": 730,
    "execution_start": 1692765521393,
    "source_hash": null
   },
   "outputs": [],
   "source": [
    "df.head(5)"
   ]
  },
  {
   "cell_type": "code",
   "execution_count": null,
   "metadata": {
    "cell_id": "8fb3ca65e3d94ce8825483d5661899bf",
    "deepnote_app_coordinates": {
     "h": 5,
     "w": 12,
     "x": 0,
     "y": 0
    },
    "deepnote_cell_type": "code",
    "deepnote_to_be_reexecuted": false,
    "execution_millis": 143,
    "execution_start": 1692765586064,
    "source_hash": null
   },
   "outputs": [],
   "source": [
    "df.to_csv('../data/recipes.csv', index=False)"
   ]
  },
  {
   "cell_type": "code",
   "execution_count": null,
   "metadata": {},
   "outputs": [],
   "source": [
    "def get_videos_df_from_channel(channel_url):\n",
    "    channel = Channel(channel_url)\n",
    "    df = pd.DataFrame()\n",
    "    print(f'There are {len(channel.videos)} videos in {channel.channel_name}')\n",
    "\n",
    "    \n",
    "    for idx, video in (enumerate(channel.videos)):\n",
    "        if idx%10 == 0:\n",
    "            print(f'processing {idx}/{len(channel.videos)} video')\n",
    "        \n",
    "        d = {}\n",
    "        d['video_id'] = video.video_id\n",
    "        d['title'] = video.title\n",
    "        d['publish_date'] = video.publish_date\n",
    "        d['length'] = video.length\n",
    "        d['thumbnail'] = video.thumbnail_url\n",
    "        d['vid_info'] = video.vid_info\n",
    "        \n",
    "        try:\n",
    "            \n",
    "            #transcript_list = YouTubeTranscriptApi.list_transcripts(v_id)\n",
    "            transcript = YouTubeTranscriptApi.get_transcript(video.video_id, languages=['en-IN'])\n",
    "            d['transcript'] = formatter.format_transcript(transcript)\n",
    "        except:\n",
    "            print('No transcripts available for ', video.video_id)\n",
    "            d['transcript'] = 'NA'\n",
    "            continue\n",
    "\n",
    "        df = pd.concat([df, pd.DataFrame([d])], ignore_index=True)\n",
    "    return df"
   ]
  },
  {
   "cell_type": "code",
   "execution_count": null,
   "metadata": {},
   "outputs": [],
   "source": [
    "# Using pytubefix package to use new channel urls. Downloading transcripts for Venkatesh Bhat's recipes\n",
    "\n",
    "from pytubefix import YouTube, Channel\n",
    "\n",
    "vb_df = get_videos_df_from_channel('https://www.youtube.com/@venkateshbhatsidhayamthott3527')"
   ]
  },
  {
   "cell_type": "code",
   "execution_count": null,
   "metadata": {},
   "outputs": [],
   "source": [
    "vb_df.to_csv('../data/recipes_vb.csv', index=False)"
   ]
  },
  {
   "cell_type": "code",
   "execution_count": null,
   "metadata": {},
   "outputs": [],
   "source": []
  }
 ],
 "metadata": {
  "deepnote": {},
  "deepnote_app_layout": "powerful-article",
  "deepnote_execution_queue": [],
  "deepnote_notebook_id": "5cd428f9ead54220bdd8bc8c96a17934",
  "deepnote_persisted_session": {
   "createdAt": "2023-08-23T05:01:21.517Z"
  },
  "kernelspec": {
   "display_name": "Python 3 (ipykernel)",
   "language": "python",
   "name": "python3"
  },
  "language_info": {
   "codemirror_mode": {
    "name": "ipython",
    "version": 3
   },
   "file_extension": ".py",
   "mimetype": "text/x-python",
   "name": "python",
   "nbconvert_exporter": "python",
   "pygments_lexer": "ipython3",
   "version": "3.9.6"
  }
 },
 "nbformat": 4,
 "nbformat_minor": 4
}
