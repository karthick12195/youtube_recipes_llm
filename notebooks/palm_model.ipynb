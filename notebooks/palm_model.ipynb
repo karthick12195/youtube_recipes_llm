{
 "cells": [
  {
   "cell_type": "code",
   "execution_count": 1,
   "metadata": {
    "cell_id": "27c49c02624a4ce485dafa96de8cb436",
    "deepnote_app_coordinates": {
     "h": 5,
     "w": 12,
     "x": 0,
     "y": 0
    },
    "deepnote_cell_type": "code",
    "deepnote_to_be_reexecuted": false,
    "execution_millis": 14,
    "execution_start": 1692819477525,
    "source_hash": null
   },
   "outputs": [
    {
     "name": "stderr",
     "output_type": "stream",
     "text": [
      "/Users/karthickmani/Documents/Python/youtube_recipes_llm/env/lib/python3.9/site-packages/urllib3/__init__.py:34: NotOpenSSLWarning: urllib3 v2.0 only supports OpenSSL 1.1.1+, currently the 'ssl' module is compiled with 'LibreSSL 2.8.3'. See: https://github.com/urllib3/urllib3/issues/3020\n",
      "  warnings.warn(\n"
     ]
    }
   ],
   "source": [
    "import pandas as pd\n",
    "import google.generativeai as palm\n",
    "import config\n",
    "import re"
   ]
  },
  {
   "cell_type": "code",
   "execution_count": 2,
   "metadata": {},
   "outputs": [],
   "source": [
    "df = pd.read_csv('../data/recipes.csv')\n",
    "palm.configure(api_key=config.palm_api_key)\n",
    "small_df = df.head(5)"
   ]
  },
  {
   "cell_type": "code",
   "execution_count": 3,
   "metadata": {
    "cell_id": "166dea2877e74e5490808f417f23e184",
    "deepnote_app_coordinates": {
     "h": 5,
     "w": 12,
     "x": 0,
     "y": 0
    },
    "deepnote_cell_type": "code"
   },
   "outputs": [],
   "source": [
    "def palm_gen_recipe(transcript, index):\n",
    "    if index%10 == 0:\n",
    "        print(\"Processing record {}\".format(index))\n",
    "\n",
    "    \n",
    "    defaults = {\n",
    "      'model': 'models/text-bison-001',\n",
    "      'temperature': 0.7,\n",
    "      'candidate_count': 1,\n",
    "      'top_k': 40,\n",
    "      'top_p': 0.95,\n",
    "      'max_output_tokens': 1500,\n",
    "      'stop_sequences': [],\n",
    "    }\n",
    "    prompt = \"\"\"\n",
    "    You are assuming the role of a renowned chef who is sharing his recipes using captions from a video. Your task is to perform the following actions:\n",
    "    1 - Summarize the following text into list of ingredients and step by step recipe instructions: {}\n",
    "    2 - Output a json object that contains the following keys: ingredients, recipe\n",
    "\n",
    "    Use the following format, and separate each section with two new lines:\n",
    "    ===Ingredients===: numbered list of <ingredients> - <quantity> - <unit of measurement>\n",
    "    ===Recipe===: step by step recipe with each step numbered\n",
    "    ===Output JSON===: <json with Ingredients, Recipe>\n",
    "\n",
    "    Please make sure you seperate each section with line breakers '==='\n",
    "    \"\"\".format(transcript)\n",
    "    try:\n",
    "\n",
    "        response = palm.generate_text(\n",
    "          **defaults,\n",
    "          prompt=prompt\n",
    "        )\n",
    "        return response.result\n",
    "    except:\n",
    "        return \"Not Supported\""
   ]
  },
  {
   "cell_type": "code",
   "execution_count": 4,
   "metadata": {
    "cell_id": "73fbd089e415490d83b6dc6e3c7610f7",
    "deepnote_app_coordinates": {
     "h": 5,
     "w": 12,
     "x": 0,
     "y": 0
    },
    "deepnote_cell_type": "code"
   },
   "outputs": [
    {
     "name": "stdout",
     "output_type": "stream",
     "text": [
      "Processing record 0\n",
      "Processing record 0\n",
      "Processing record 0\n",
      "Processing record 0\n",
      "Processing record 0\n",
      "Processing record 0\n",
      "Processing record 0\n",
      "Processing record 0\n",
      "Processing record 0\n",
      "Processing record 0\n",
      "Processing record 0\n",
      "Processing record 0\n",
      "Processing record 0\n",
      "Processing record 0\n",
      "Processing record 0\n",
      "Processing record 0\n",
      "Processing record 0\n",
      "Processing record 0\n",
      "Processing record 0\n",
      "Processing record 0\n",
      "Processing record 0\n",
      "Processing record 0\n",
      "Processing record 0\n",
      "Processing record 0\n",
      "Processing record 0\n",
      "Processing record 0\n",
      "Processing record 0\n",
      "Processing record 0\n",
      "Processing record 0\n",
      "Processing record 0\n",
      "Processing record 0\n",
      "Processing record 0\n",
      "Processing record 0\n",
      "Processing record 0\n",
      "Processing record 0\n",
      "Processing record 0\n",
      "Processing record 0\n",
      "Processing record 0\n",
      "Processing record 0\n",
      "Processing record 0\n",
      "Processing record 0\n",
      "Processing record 0\n",
      "Processing record 0\n",
      "Processing record 0\n",
      "Processing record 0\n",
      "Processing record 0\n",
      "Processing record 0\n",
      "Processing record 0\n",
      "Processing record 0\n",
      "Processing record 0\n",
      "Processing record 0\n",
      "Processing record 0\n",
      "Processing record 0\n",
      "Processing record 0\n",
      "Processing record 0\n",
      "Processing record 0\n",
      "Processing record 0\n",
      "Processing record 0\n",
      "Processing record 0\n",
      "Processing record 0\n",
      "Processing record 0\n",
      "Processing record 0\n"
     ]
    }
   ],
   "source": [
    "df['ingredients_recipe'] = df.apply(lambda x: palm_gen_recipe(x.transcript, x.name), axis=1)\n",
    "df['ingredients'] = df['ingredients_recipe'].str.extract(r'===Ingredients===\\n(.*)===Recipe===', re.DOTALL)\n",
    "df['recipe'] = df['ingredients_recipe'].str.extract(r'===Recipe===\\n(.*)===Output JSON===', re.DOTALL)\n",
    "df['outputJSON'] = df['ingredients_recipe'].str.extract(r'===Output JSON===\\n(.*)', re.DOTALL)"
   ]
  },
  {
   "cell_type": "code",
   "execution_count": 5,
   "metadata": {
    "cell_id": "79f7a2fa7436434bb648546146631c03",
    "deepnote_app_coordinates": {
     "h": 5,
     "w": 12,
     "x": 0,
     "y": 0
    },
    "deepnote_cell_type": "code"
   },
   "outputs": [],
   "source": [
    "df.to_csv('../data/recipe_with_instructions.csv', index=False)\n"
   ]
  },
  {
   "cell_type": "markdown",
   "metadata": {},
   "source": [
    "### Test Section"
   ]
  },
  {
   "cell_type": "code",
   "execution_count": 6,
   "metadata": {},
   "outputs": [],
   "source": [
    "# print(palm_gen_recipe(df['transcript'][0], 0).split('===Output JSON===')[0])"
   ]
  }
 ],
 "metadata": {
  "deepnote": {},
  "deepnote_app_layout": "powerful-article",
  "deepnote_execution_queue": [],
  "deepnote_notebook_id": "38df8dd4700146c1b3d1cbdc3c8c01e6",
  "deepnote_persisted_session": {
   "createdAt": "2023-08-23T20:32:51.000Z"
  },
  "kernelspec": {
   "display_name": "Python 3 (ipykernel)",
   "language": "python",
   "name": "python3"
  },
  "language_info": {
   "codemirror_mode": {
    "name": "ipython",
    "version": 3
   },
   "file_extension": ".py",
   "mimetype": "text/x-python",
   "name": "python",
   "nbconvert_exporter": "python",
   "pygments_lexer": "ipython3",
   "version": "3.9.6"
  }
 },
 "nbformat": 4,
 "nbformat_minor": 4
}
